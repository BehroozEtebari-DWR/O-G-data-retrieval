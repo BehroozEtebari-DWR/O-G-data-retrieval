{
 "cells": [
  {
   "cell_type": "code",
   "execution_count": 21,
   "id": "1a4c8e83-6934-416f-b5da-ef7e698cf6e9",
   "metadata": {},
   "outputs": [
    {
     "name": "stdout",
     "output_type": "stream",
     "text": [
      "Processing data for year: 1977\n",
      "Found files: C:\\Users\\betebari\\Documents\\briny-injection-AqExemptions\\Allannualdatacsv\\1977CaliforniaOilandGasWells.csv, C:\\Users\\betebari\\Documents\\briny-injection-AqExemptions\\Allannualdatacsv\\1977CaliforniaOilandGasWellInjection.csv\n",
      "Wells PWT__ID Range: 0100000001 - 0100292460\n",
      "Injection PWT__ID Range: 0100000032 - 0100288082\n",
      "Number of matching PWT__ID values: 14216\n",
      "Merged Wells and Injection: (77095, 34)\n",
      "Merged Injection with AllWells: (39800, 38)\n",
      "Saved Injection data for year 1977.\n",
      "Processing data for year: 1978\n",
      "Found files: C:\\Users\\betebari\\Documents\\briny-injection-AqExemptions\\Allannualdatacsv\\1978CaliforniaOilandGasWells.csv, C:\\Users\\betebari\\Documents\\briny-injection-AqExemptions\\Allannualdatacsv\\1978CaliforniaOilandGasWellInjection.csv\n",
      "Wells PWT__ID Range: 0100000001 - 0100292460\n",
      "Injection PWT__ID Range: 0100000032 - 0100288082\n",
      "Number of matching PWT__ID values: 15330\n",
      "Merged Wells and Injection: (93467, 34)\n",
      "Merged Injection with AllWells: (49613, 38)\n",
      "Saved Injection data for year 1978.\n",
      "Processing data for year: 1979\n",
      "Found files: C:\\Users\\betebari\\Documents\\briny-injection-AqExemptions\\Allannualdatacsv\\1979CaliforniaOilandGasWells.csv, C:\\Users\\betebari\\Documents\\briny-injection-AqExemptions\\Allannualdatacsv\\1979CaliforniaOilandGasWellInjection.csv\n",
      "Wells PWT__ID Range: 0100000001 - 0100292460\n",
      "Injection PWT__ID Range: 0100000032 - 0100288082\n",
      "Number of matching PWT__ID values: 15159\n",
      "Merged Wells and Injection: (101356, 34)\n",
      "Merged Injection with AllWells: (55051, 38)\n",
      "Saved Injection data for year 1979.\n",
      "Processing data for year: 1980\n",
      "Found files: C:\\Users\\betebari\\Documents\\briny-injection-AqExemptions\\Allannualdatacsv\\1980CaliforniaOilandGasWells.csv, C:\\Users\\betebari\\Documents\\briny-injection-AqExemptions\\Allannualdatacsv\\1980CaliforniaOilandGasWellInjection.csv\n",
      "Wells PWT__ID Range: 0100000001 - 0100292460\n",
      "Injection PWT__ID Range: 0100000032 - 0100288082\n",
      "Number of matching PWT__ID values: 16681\n",
      "Merged Wells and Injection: (110298, 34)\n",
      "Merged Injection with AllWells: (61734, 38)\n",
      "Saved Injection data for year 1980.\n",
      "Processing data for year: 1981\n",
      "Found files: C:\\Users\\betebari\\Documents\\briny-injection-AqExemptions\\Allannualdatacsv\\1981CaliforniaOilandGasWells.csv, C:\\Users\\betebari\\Documents\\briny-injection-AqExemptions\\Allannualdatacsv\\1981CaliforniaOilandGasWellInjection.csv\n",
      "Wells PWT__ID Range: 0100000001 - 0100292460\n",
      "Injection PWT__ID Range: 0100000032 - 0100288082\n",
      "Number of matching PWT__ID values: 18729\n",
      "Merged Wells and Injection: (125214, 34)\n",
      "Merged Injection with AllWells: (73609, 38)\n",
      "Saved Injection data for year 1981.\n",
      "Processing data for year: 1982\n",
      "Found files: C:\\Users\\betebari\\Documents\\briny-injection-AqExemptions\\Allannualdatacsv\\1982CaliforniaOilandGasWells.csv, C:\\Users\\betebari\\Documents\\briny-injection-AqExemptions\\Allannualdatacsv\\1982CaliforniaOilandGasWellInjection.csv\n",
      "Wells PWT__ID Range: 0100000001 - 0100292460\n",
      "Injection PWT__ID Range: 0100000032 - 0100290714\n",
      "Number of matching PWT__ID values: 19117\n",
      "Merged Wells and Injection: (134779, 34)\n",
      "Merged Injection with AllWells: (81922, 38)\n",
      "Saved Injection data for year 1982.\n",
      "Processing data for year: 1983\n",
      "Found files: C:\\Users\\betebari\\Documents\\briny-injection-AqExemptions\\Allannualdatacsv\\1983CaliforniaOilandGasWells.csv, C:\\Users\\betebari\\Documents\\briny-injection-AqExemptions\\Allannualdatacsv\\1983CaliforniaOilandGasWellInjection.csv\n",
      "Wells PWT__ID Range: 0100000001 - 0100292460\n",
      "Injection PWT__ID Range: 0100000032 - 0100290714\n",
      "Number of matching PWT__ID values: 18936\n",
      "Merged Wells and Injection: (141030, 34)\n",
      "Merged Injection with AllWells: (85848, 38)\n",
      "Saved Injection data for year 1983.\n",
      "Processing data for year: 1984\n",
      "Found files: C:\\Users\\betebari\\Documents\\briny-injection-AqExemptions\\Allannualdatacsv\\1984CaliforniaOilandGasWells.csv, C:\\Users\\betebari\\Documents\\briny-injection-AqExemptions\\Allannualdatacsv\\1984CaliforniaOilandGasWellInjection.csv\n",
      "Wells PWT__ID Range: 0100000001 - 0100292460\n",
      "Injection PWT__ID Range: 0100000032 - 0100290714\n",
      "Number of matching PWT__ID values: 19697\n",
      "Merged Wells and Injection: (146596, 34)\n",
      "Merged Injection with AllWells: (90296, 38)\n",
      "Saved Injection data for year 1984.\n",
      "Processing data for year: 1985\n",
      "Found files: C:\\Users\\betebari\\Documents\\briny-injection-AqExemptions\\Allannualdatacsv\\1985CaliforniaOilandGasWells.csv, C:\\Users\\betebari\\Documents\\briny-injection-AqExemptions\\Allannualdatacsv\\1985CaliforniaOilandGasWellInjection.csv\n",
      "Wells PWT__ID Range: 0100000001 - 0100292460\n",
      "Injection PWT__ID Range: 0100000032 - 0100290714\n",
      "Number of matching PWT__ID values: 20858\n",
      "Merged Wells and Injection: (154378, 34)\n",
      "Merged Injection with AllWells: (95819, 38)\n",
      "Saved Injection data for year 1985.\n",
      "Processing data for year: 1986\n",
      "Found files: C:\\Users\\betebari\\Documents\\briny-injection-AqExemptions\\Allannualdatacsv\\1986CaliforniaOilandGasWells.csv, C:\\Users\\betebari\\Documents\\briny-injection-AqExemptions\\Allannualdatacsv\\1986CaliforniaOilandGasWellInjection.csv\n",
      "Wells PWT__ID Range: 0100000001 - 0100292460\n",
      "Injection PWT__ID Range: 0100000032 - 0100290714\n",
      "Number of matching PWT__ID values: 19556\n",
      "Merged Wells and Injection: (154719, 34)\n",
      "Merged Injection with AllWells: (95688, 38)\n",
      "Saved Injection data for year 1986.\n",
      "Processing data for year: 1987\n",
      "Found files: C:\\Users\\betebari\\Documents\\briny-injection-AqExemptions\\Allannualdatacsv\\1987CaliforniaOilandGasWells.csv, C:\\Users\\betebari\\Documents\\briny-injection-AqExemptions\\Allannualdatacsv\\1987CaliforniaOilandGasWellInjection.csv\n",
      "Wells PWT__ID Range: 0100000001 - 0100292460\n",
      "Injection PWT__ID Range: 0100000032 - 0100290714\n",
      "Number of matching PWT__ID values: 20647\n",
      "Merged Wells and Injection: (158231, 34)\n",
      "Merged Injection with AllWells: (99366, 38)\n",
      "Saved Injection data for year 1987.\n",
      "Processing data for year: 1988\n",
      "Found files: C:\\Users\\betebari\\Documents\\briny-injection-AqExemptions\\Allannualdatacsv\\1988CaliforniaOilandGasWells.csv, C:\\Users\\betebari\\Documents\\briny-injection-AqExemptions\\Allannualdatacsv\\1988CaliforniaOilandGasWellInjection.csv\n",
      "Wells PWT__ID Range: 0100000001 - 0100292460\n",
      "Injection PWT__ID Range: 0100000032 - 0100290714\n",
      "Number of matching PWT__ID values: 20987\n",
      "Merged Wells and Injection: (163642, 34)\n",
      "Merged Injection with AllWells: (104330, 38)\n",
      "Saved Injection data for year 1988.\n",
      "Processing data for year: 1989\n",
      "Missing files for year 1989. Skipping...\n",
      "Processing data for year: 1990\n",
      "Found files: C:\\Users\\betebari\\Documents\\briny-injection-AqExemptions\\Allannualdatacsv\\1990CaliforniaOilandGasWells.csv, C:\\Users\\betebari\\Documents\\briny-injection-AqExemptions\\Allannualdatacsv\\1990CaliforniaOilandGasWellInjection.csv\n",
      "Wells PWT__ID Range: 0100000001 - 0100292460\n",
      "Injection PWT__ID Range: 0100000032 - 0100290714\n",
      "Number of matching PWT__ID values: 24098\n",
      "Merged Wells and Injection: (183933, 34)\n",
      "Merged Injection with AllWells: (126889, 38)\n",
      "Saved Injection data for year 1990.\n",
      "Processing data for year: 1991\n",
      "Found files: C:\\Users\\betebari\\Documents\\briny-injection-AqExemptions\\Allannualdatacsv\\1991CaliforniaOilandGasWells.csv, C:\\Users\\betebari\\Documents\\briny-injection-AqExemptions\\Allannualdatacsv\\1991CaliforniaOilandGasWellInjection.csv\n",
      "Wells PWT__ID Range: 0100000001 - 0100292460\n",
      "Injection PWT__ID Range: 0100000032 - 0100290714\n",
      "Number of matching PWT__ID values: 24093\n",
      "Merged Wells and Injection: (183420, 34)\n",
      "Merged Injection with AllWells: (128838, 38)\n",
      "Saved Injection data for year 1991.\n",
      "Processing data for year: 1992\n",
      "Found files: C:\\Users\\betebari\\Documents\\briny-injection-AqExemptions\\Allannualdatacsv\\1992CaliforniaOilandGasWells.csv, C:\\Users\\betebari\\Documents\\briny-injection-AqExemptions\\Allannualdatacsv\\1992CaliforniaOilandGasWellInjection.csv\n",
      "Wells PWT__ID Range: 0100000001 - 0100292460\n",
      "Injection PWT__ID Range: 0100000032 - 0100290714\n",
      "Number of matching PWT__ID values: 23206\n",
      "Merged Wells and Injection: (180674, 34)\n",
      "Merged Injection with AllWells: (128191, 38)\n",
      "Saved Injection data for year 1992.\n",
      "Processing data for year: 1993\n",
      "Found files: C:\\Users\\betebari\\Documents\\briny-injection-AqExemptions\\Allannualdatacsv\\1993CaliforniaOilandGasWells.csv, C:\\Users\\betebari\\Documents\\briny-injection-AqExemptions\\Allannualdatacsv\\1993CaliforniaOilandGasWellInjection.csv\n",
      "Wells PWT__ID Range: 0100000001 - 0100292460\n",
      "Injection PWT__ID Range: 0100000032 - 0100290714\n",
      "Number of matching PWT__ID values: 22476\n",
      "Merged Wells and Injection: (179186, 34)\n",
      "Merged Injection with AllWells: (127734, 38)\n",
      "Saved Injection data for year 1993.\n",
      "Processing data for year: 1994\n",
      "Found files: C:\\Users\\betebari\\Documents\\briny-injection-AqExemptions\\Allannualdatacsv\\1994CaliforniaOilandGasWells.csv, C:\\Users\\betebari\\Documents\\briny-injection-AqExemptions\\Allannualdatacsv\\1994CaliforniaOilandGasWellInjection.csv\n",
      "Wells PWT__ID Range: 0100000001 - 0100292460\n",
      "Injection PWT__ID Range: 0100000032 - 0100290714\n",
      "Number of matching PWT__ID values: 22768\n",
      "Merged Wells and Injection: (180145, 34)\n",
      "Merged Injection with AllWells: (130222, 38)\n",
      "Saved Injection data for year 1994.\n",
      "Processing data for year: 1995\n",
      "Found files: C:\\Users\\betebari\\Documents\\briny-injection-AqExemptions\\Allannualdatacsv\\1995CaliforniaOilandGasWells.csv, C:\\Users\\betebari\\Documents\\briny-injection-AqExemptions\\Allannualdatacsv\\1995CaliforniaOilandGasWellInjection.csv\n",
      "Wells PWT__ID Range: 0100000001 - 0100292460\n",
      "Injection PWT__ID Range: 0100000032 - 0100290714\n",
      "Number of matching PWT__ID values: 24484\n",
      "Merged Wells and Injection: (188765, 34)\n",
      "Merged Injection with AllWells: (139703, 38)\n",
      "Saved Injection data for year 1995.\n",
      "Processing data for year: 1996\n",
      "Found files: C:\\Users\\betebari\\Documents\\briny-injection-AqExemptions\\Allannualdatacsv\\1996CaliforniaOilandGasWells.csv, C:\\Users\\betebari\\Documents\\briny-injection-AqExemptions\\Allannualdatacsv\\1996CaliforniaOilandGasWellInjection.csv\n",
      "Wells PWT__ID Range: 0100000001 - 0100292347\n",
      "Injection PWT__ID Range: 0100000032 - 0100291512\n",
      "Number of matching PWT__ID values: 25703\n",
      "Merged Wells and Injection: (195605, 34)\n",
      "Merged Injection with AllWells: (146753, 38)\n",
      "Saved Injection data for year 1996.\n",
      "Processing data for year: 1997\n",
      "Found files: C:\\Users\\betebari\\Documents\\briny-injection-AqExemptions\\Allannualdatacsv\\1997CaliforniaOilandGasWells.csv, C:\\Users\\betebari\\Documents\\briny-injection-AqExemptions\\Allannualdatacsv\\1997CaliforniaOilandGasWellInjection.csv\n",
      "Wells PWT__ID Range: 0100000001 - 0100292353\n",
      "Injection PWT__ID Range: 0100000032 - 0100291512\n",
      "Number of matching PWT__ID values: 25657\n",
      "Merged Wells and Injection: (193238, 34)\n",
      "Merged Injection with AllWells: (145379, 38)\n",
      "Saved Injection data for year 1997.\n",
      "Processing data for year: 1998\n",
      "Found files: C:\\Users\\betebari\\Documents\\briny-injection-AqExemptions\\Allannualdatacsv\\1998CaliforniaOilandGasWells.csv, C:\\Users\\betebari\\Documents\\briny-injection-AqExemptions\\Allannualdatacsv\\1998CaliforniaOilandGasWellInjection.csv\n",
      "Wells PWT__ID Range: 0100000001 - 0100291844\n",
      "Injection PWT__ID Range: 0100000032 - 0100291512\n",
      "Number of matching PWT__ID values: 25423\n",
      "Merged Wells and Injection: (194065, 34)\n",
      "Merged Injection with AllWells: (148089, 38)\n",
      "Saved Injection data for year 1998.\n",
      "Processing data for year: 1999\n",
      "Found files: C:\\Users\\betebari\\Documents\\briny-injection-AqExemptions\\Allannualdatacsv\\1999CaliforniaOilandGasWells.csv, C:\\Users\\betebari\\Documents\\briny-injection-AqExemptions\\Allannualdatacsv\\1999CaliforniaOilandGasWellInjection.csv\n"
     ]
    },
    {
     "name": "stderr",
     "output_type": "stream",
     "text": [
      "C:\\Users\\betebari\\AppData\\Local\\Temp\\ipykernel_808\\1456937268.py:27: DtypeWarning: Columns (6,7) have mixed types. Specify dtype option on import or set low_memory=False.\n",
      "  inj = pd.read_csv(inj_path, encoding=\"ISO-8859-1\", dtype={'PWT__ID': str})\n"
     ]
    },
    {
     "name": "stdout",
     "output_type": "stream",
     "text": [
      "Wells PWT__ID Range: 0100000001 - 0100291844\n",
      "Injection PWT__ID Range: 0100000043 - 0100291512\n",
      "Number of matching PWT__ID values: 25060\n",
      "Merged Wells and Injection: (196910, 34)\n",
      "Merged Injection with AllWells: (150701, 38)\n",
      "Saved Injection data for year 1999.\n",
      "Processing data for year: 2000\n",
      "Found files: C:\\Users\\betebari\\Documents\\briny-injection-AqExemptions\\Allannualdatacsv\\2000CaliforniaOilandGasWells.csv, C:\\Users\\betebari\\Documents\\briny-injection-AqExemptions\\Allannualdatacsv\\2000CaliforniaOilandGasWellInjection.csv\n",
      "Wells PWT__ID Range: 0100000001 - 0100291800\n",
      "Injection PWT__ID Range: 0100000043 - 0100291512\n",
      "Number of matching PWT__ID values: 25490\n",
      "Merged Wells and Injection: (200326, 34)\n",
      "Merged Injection with AllWells: (155546, 38)\n",
      "Saved Injection data for year 2000.\n",
      "Processing data for year: 2001\n",
      "Found files: C:\\Users\\betebari\\Documents\\briny-injection-AqExemptions\\Allannualdatacsv\\2001CaliforniaOilandGasWells.csv, C:\\Users\\betebari\\Documents\\briny-injection-AqExemptions\\Allannualdatacsv\\2001CaliforniaOilandGasWellInjection.csv\n",
      "Wells PWT__ID Range: 0100000001 - 0100291844\n",
      "Injection PWT__ID Range: 0100000043 - 0100291512\n",
      "Number of matching PWT__ID values: 20394\n",
      "Merged Wells and Injection: (195537, 34)\n",
      "Merged Injection with AllWells: (150213, 38)\n",
      "Saved Injection data for year 2001.\n",
      "Processing data for year: 2002\n",
      "Found files: C:\\Users\\betebari\\Documents\\briny-injection-AqExemptions\\Allannualdatacsv\\2002CaliforniaOilandGasWells.csv, C:\\Users\\betebari\\Documents\\briny-injection-AqExemptions\\Allannualdatacsv\\2002CaliforniaOilandGasWellInjection.csv\n",
      "Wells PWT__ID Range: 0100000001 - 0100291844\n",
      "Injection PWT__ID Range: 0100000043 - 0100291512\n",
      "Number of matching PWT__ID values: 24047\n",
      "Merged Wells and Injection: (205228, 34)\n",
      "Merged Injection with AllWells: (160271, 38)\n",
      "Saved Injection data for year 2002.\n",
      "Processing data for year: 2003\n",
      "Found files: C:\\Users\\betebari\\Documents\\briny-injection-AqExemptions\\Allannualdatacsv\\2003CaliforniaOilandGasWells.csv, C:\\Users\\betebari\\Documents\\briny-injection-AqExemptions\\Allannualdatacsv\\2003CaliforniaOilandGasWellInjection.csv\n",
      "Wells PWT__ID Range: 0100000001 - 0100291844\n",
      "Injection PWT__ID Range: 0100000043 - 0100291512\n",
      "Number of matching PWT__ID values: 26182\n",
      "Merged Wells and Injection: (209213, 34)\n",
      "Merged Injection with AllWells: (164533, 38)\n",
      "Saved Injection data for year 2003.\n",
      "Processing data for year: 2004\n",
      "Found files: C:\\Users\\betebari\\Documents\\briny-injection-AqExemptions\\Allannualdatacsv\\2004CaliforniaOilandGasWells.csv, C:\\Users\\betebari\\Documents\\briny-injection-AqExemptions\\Allannualdatacsv\\2004CaliforniaOilandGasWellInjection.csv\n",
      "Wells PWT__ID Range: 0100000001 - 0100291844\n",
      "Injection PWT__ID Range: 0100000043 - 0100291512\n",
      "Number of matching PWT__ID values: 26756\n",
      "Merged Wells and Injection: (214418, 34)\n",
      "Merged Injection with AllWells: (169949, 38)\n",
      "Saved Injection data for year 2004.\n",
      "Processing data for year: 2005\n",
      "Found files: C:\\Users\\betebari\\Documents\\briny-injection-AqExemptions\\Allannualdatacsv\\2005CaliforniaOilandGasWells.csv, C:\\Users\\betebari\\Documents\\briny-injection-AqExemptions\\Allannualdatacsv\\2005CaliforniaOilandGasWellInjection.csv\n",
      "Wells PWT__ID Range: 0100000001 - 0100291719\n",
      "Injection PWT__ID Range: 0100000043 - 0100291512\n",
      "Number of matching PWT__ID values: 27343\n",
      "Merged Wells and Injection: (221183, 34)\n",
      "Merged Injection with AllWells: (177012, 38)\n",
      "Saved Injection data for year 2005.\n",
      "Processing data for year: 2006\n",
      "Found files: C:\\Users\\betebari\\Documents\\briny-injection-AqExemptions\\Allannualdatacsv\\2006CaliforniaOilandGasWells.csv, C:\\Users\\betebari\\Documents\\briny-injection-AqExemptions\\Allannualdatacsv\\2006CaliforniaOilandGasWellInjection.csv\n",
      "Wells PWT__ID Range: 0100000001 - 0100291719\n",
      "Injection PWT__ID Range: 0100000043 - 0100291512\n",
      "Number of matching PWT__ID values: 28918\n",
      "Merged Wells and Injection: (228171, 34)\n",
      "Merged Injection with AllWells: (183756, 38)\n",
      "Saved Injection data for year 2006.\n",
      "Processing data for year: 2007\n",
      "Found files: C:\\Users\\betebari\\Documents\\briny-injection-AqExemptions\\Allannualdatacsv\\2007CaliforniaOilandGasWells.csv, C:\\Users\\betebari\\Documents\\briny-injection-AqExemptions\\Allannualdatacsv\\2007CaliforniaOilandGasWellInjection.csv\n",
      "Wells PWT__ID Range: 0100000001 - 0100291719\n",
      "Injection PWT__ID Range: 0100000043 - 0100291512\n",
      "Number of matching PWT__ID values: 29695\n",
      "Merged Wells and Injection: (232877, 34)\n",
      "Merged Injection with AllWells: (188093, 38)\n",
      "Saved Injection data for year 2007.\n",
      "Processing data for year: 2008\n",
      "Found files: C:\\Users\\betebari\\Documents\\briny-injection-AqExemptions\\Allannualdatacsv\\2008CaliforniaOilandGasWells.csv, C:\\Users\\betebari\\Documents\\briny-injection-AqExemptions\\Allannualdatacsv\\2008CaliforniaOilandGasWellInjection.csv\n",
      "Wells PWT__ID Range: 0100000001 - 0100291719\n",
      "Injection PWT__ID Range: 0100000043 - 0100291512\n",
      "Number of matching PWT__ID values: 32119\n",
      "Merged Wells and Injection: (239545, 34)\n",
      "Merged Injection with AllWells: (193720, 38)\n",
      "Saved Injection data for year 2008.\n",
      "Processing data for year: 2009\n",
      "Found files: C:\\Users\\betebari\\Documents\\briny-injection-AqExemptions\\Allannualdatacsv\\2009CaliforniaOilandGasWells.csv, C:\\Users\\betebari\\Documents\\briny-injection-AqExemptions\\Allannualdatacsv\\2009CaliforniaOilandGasWellInjection.csv\n",
      "Wells PWT__ID Range: 0100000001 - 0100291719\n",
      "Injection PWT__ID Range: 0100000043 - 0100291512\n",
      "Number of matching PWT__ID values: 31716\n",
      "Merged Wells and Injection: (240433, 34)\n",
      "Merged Injection with AllWells: (194087, 38)\n",
      "Saved Injection data for year 2009.\n",
      "Processing data for year: 2010\n",
      "Found files: C:\\Users\\betebari\\Documents\\briny-injection-AqExemptions\\Allannualdatacsv\\2010CaliforniaOilandGasWells.csv, C:\\Users\\betebari\\Documents\\briny-injection-AqExemptions\\Allannualdatacsv\\2010CaliforniaOilandGasWellInjection.csv\n"
     ]
    },
    {
     "name": "stderr",
     "output_type": "stream",
     "text": [
      "C:\\Users\\betebari\\AppData\\Local\\Temp\\ipykernel_808\\1456937268.py:26: DtypeWarning: Columns (3,6) have mixed types. Specify dtype option on import or set low_memory=False.\n",
      "  wells = pd.read_csv(wells_path, encoding=\"ISO-8859-1\", dtype={'PWT__ID': str})\n"
     ]
    },
    {
     "name": "stdout",
     "output_type": "stream",
     "text": [
      "Wells PWT__ID Range: 0100000001 - 0100315859\n",
      "Injection PWT__ID Range: 0100000043 - 0100312046\n",
      "Number of matching PWT__ID values: 31181\n",
      "Merged Wells and Injection: (241866, 34)\n",
      "Merged Injection with AllWells: (193671, 38)\n",
      "Saved Injection data for year 2010.\n",
      "Processing data for year: 2011\n",
      "Found files: C:\\Users\\betebari\\Documents\\briny-injection-AqExemptions\\Allannualdatacsv\\2011CaliforniaOilandGasWells.csv, C:\\Users\\betebari\\Documents\\briny-injection-AqExemptions\\Allannualdatacsv\\2011CaliforniaOilandGasWellInjection.csv\n"
     ]
    },
    {
     "name": "stderr",
     "output_type": "stream",
     "text": [
      "C:\\Users\\betebari\\AppData\\Local\\Temp\\ipykernel_808\\1456937268.py:26: DtypeWarning: Columns (3,6) have mixed types. Specify dtype option on import or set low_memory=False.\n",
      "  wells = pd.read_csv(wells_path, encoding=\"ISO-8859-1\", dtype={'PWT__ID': str})\n"
     ]
    },
    {
     "name": "stdout",
     "output_type": "stream",
     "text": [
      "Wells PWT__ID Range: 0100000001 - 0100315859\n",
      "Injection PWT__ID Range: 0100000043 - 0100314256\n",
      "Number of matching PWT__ID values: 31700\n",
      "Merged Wells and Injection: (243669, 34)\n",
      "Merged Injection with AllWells: (194943, 38)\n",
      "Saved Injection data for year 2011.\n",
      "Processing data for year: 2012\n",
      "Found files: C:\\Users\\betebari\\Documents\\briny-injection-AqExemptions\\Allannualdatacsv\\2012CaliforniaOilandGasWells.csv, C:\\Users\\betebari\\Documents\\briny-injection-AqExemptions\\Allannualdatacsv\\2012CaliforniaOilandGasWellInjection.csv\n"
     ]
    },
    {
     "name": "stderr",
     "output_type": "stream",
     "text": [
      "C:\\Users\\betebari\\AppData\\Local\\Temp\\ipykernel_808\\1456937268.py:26: DtypeWarning: Columns (3,6) have mixed types. Specify dtype option on import or set low_memory=False.\n",
      "  wells = pd.read_csv(wells_path, encoding=\"ISO-8859-1\", dtype={'PWT__ID': str})\n",
      "C:\\Users\\betebari\\AppData\\Local\\Temp\\ipykernel_808\\1456937268.py:27: DtypeWarning: Columns (7) have mixed types. Specify dtype option on import or set low_memory=False.\n",
      "  inj = pd.read_csv(inj_path, encoding=\"ISO-8859-1\", dtype={'PWT__ID': str})\n"
     ]
    },
    {
     "name": "stdout",
     "output_type": "stream",
     "text": [
      "Wells PWT__ID Range: 0100000001 - 0100315859\n",
      "Injection PWT__ID Range: 0100000043 - 0100314545\n",
      "Number of matching PWT__ID values: 34549\n",
      "Merged Wells and Injection: (257439, 34)\n",
      "Merged Injection with AllWells: (207671, 38)\n",
      "Saved Injection data for year 2012.\n",
      "Processing data for year: 2013\n",
      "Found files: C:\\Users\\betebari\\Documents\\briny-injection-AqExemptions\\Allannualdatacsv\\2013CaliforniaOilandGasWells.csv, C:\\Users\\betebari\\Documents\\briny-injection-AqExemptions\\Allannualdatacsv\\2013CaliforniaOilandGasWellInjection.csv\n"
     ]
    },
    {
     "name": "stderr",
     "output_type": "stream",
     "text": [
      "C:\\Users\\betebari\\AppData\\Local\\Temp\\ipykernel_808\\1456937268.py:26: DtypeWarning: Columns (3,6) have mixed types. Specify dtype option on import or set low_memory=False.\n",
      "  wells = pd.read_csv(wells_path, encoding=\"ISO-8859-1\", dtype={'PWT__ID': str})\n"
     ]
    },
    {
     "name": "stdout",
     "output_type": "stream",
     "text": [
      "Wells PWT__ID Range: 0100000001 - 0100315859\n",
      "Injection PWT__ID Range: 0100000043 - 0100315789\n",
      "Number of matching PWT__ID values: 35090\n",
      "Merged Wells and Injection: (267374, 34)\n",
      "Merged Injection with AllWells: (215654, 38)\n",
      "Saved Injection data for year 2013.\n",
      "Processing data for year: 2014\n",
      "Found files: C:\\Users\\betebari\\Documents\\briny-injection-AqExemptions\\Allannualdatacsv\\2014CaliforniaOilandGasWells.csv, C:\\Users\\betebari\\Documents\\briny-injection-AqExemptions\\Allannualdatacsv\\2014CaliforniaOilandGasWellInjection.csv\n"
     ]
    },
    {
     "name": "stderr",
     "output_type": "stream",
     "text": [
      "C:\\Users\\betebari\\AppData\\Local\\Temp\\ipykernel_808\\1456937268.py:26: DtypeWarning: Columns (3,6) have mixed types. Specify dtype option on import or set low_memory=False.\n",
      "  wells = pd.read_csv(wells_path, encoding=\"ISO-8859-1\", dtype={'PWT__ID': str})\n"
     ]
    },
    {
     "name": "stdout",
     "output_type": "stream",
     "text": [
      "Wells PWT__ID Range: 0100000001 - 0100315551\n",
      "Injection PWT__ID Range: 0100000043 - 0100314545\n",
      "Number of matching PWT__ID values: 35954\n",
      "Merged Wells and Injection: (274347, 34)\n",
      "Merged Injection with AllWells: (220943, 38)\n",
      "Saved Injection data for year 2014.\n",
      "Processing data for year: 2015\n",
      "Found files: C:\\Users\\betebari\\Documents\\briny-injection-AqExemptions\\Allannualdatacsv\\2015CaliforniaOilandGasWells.csv, C:\\Users\\betebari\\Documents\\briny-injection-AqExemptions\\Allannualdatacsv\\2015CaliforniaOilandGasWellInjection.csv\n"
     ]
    },
    {
     "name": "stderr",
     "output_type": "stream",
     "text": [
      "C:\\Users\\betebari\\AppData\\Local\\Temp\\ipykernel_808\\1456937268.py:26: DtypeWarning: Columns (3,6) have mixed types. Specify dtype option on import or set low_memory=False.\n",
      "  wells = pd.read_csv(wells_path, encoding=\"ISO-8859-1\", dtype={'PWT__ID': str})\n"
     ]
    },
    {
     "name": "stdout",
     "output_type": "stream",
     "text": [
      "Wells PWT__ID Range: 0100000001 - 0100316174\n",
      "Injection PWT__ID Range: 0100000043 - 0100316168\n",
      "Number of matching PWT__ID values: 36119\n",
      "Merged Wells and Injection: (278277, 34)\n",
      "Merged Injection with AllWells: (225609, 38)\n",
      "Saved Injection data for year 2015.\n",
      "Processing data for year: 2016\n",
      "Found files: C:\\Users\\betebari\\Documents\\briny-injection-AqExemptions\\Allannualdatacsv\\2016CaliforniaOilandGasWells.csv, C:\\Users\\betebari\\Documents\\briny-injection-AqExemptions\\Allannualdatacsv\\2016CaliforniaOilandGasWellInjection.csv\n"
     ]
    },
    {
     "name": "stderr",
     "output_type": "stream",
     "text": [
      "C:\\Users\\betebari\\AppData\\Local\\Temp\\ipykernel_808\\1456937268.py:26: DtypeWarning: Columns (3,6) have mixed types. Specify dtype option on import or set low_memory=False.\n",
      "  wells = pd.read_csv(wells_path, encoding=\"ISO-8859-1\", dtype={'PWT__ID': str})\n"
     ]
    },
    {
     "name": "stdout",
     "output_type": "stream",
     "text": [
      "Wells PWT__ID Range: 0100000001 - 0100317668\n",
      "Injection PWT__ID Range: 0100000043 - 0100317592\n",
      "Number of matching PWT__ID values: 31005\n",
      "Merged Wells and Injection: (254094, 34)\n",
      "Merged Injection with AllWells: (203401, 38)\n",
      "Saved Injection data for year 2016.\n",
      "Processing data for year: 2017\n",
      "Found files: C:\\Users\\betebari\\Documents\\briny-injection-AqExemptions\\Allannualdatacsv\\2017CaliforniaOilandGasWells.csv, C:\\Users\\betebari\\Documents\\briny-injection-AqExemptions\\Allannualdatacsv\\2017CaliforniaOilandGasWellInjection.csv\n"
     ]
    },
    {
     "name": "stderr",
     "output_type": "stream",
     "text": [
      "C:\\Users\\betebari\\AppData\\Local\\Temp\\ipykernel_808\\1456937268.py:26: DtypeWarning: Columns (3,6) have mixed types. Specify dtype option on import or set low_memory=False.\n",
      "  wells = pd.read_csv(wells_path, encoding=\"ISO-8859-1\", dtype={'PWT__ID': str})\n"
     ]
    },
    {
     "name": "stdout",
     "output_type": "stream",
     "text": [
      "Wells PWT__ID Range: 0100000001 - 0100320512\n",
      "Injection PWT__ID Range: 0100000043 - 0100320511\n",
      "Number of matching PWT__ID values: 30120\n",
      "Merged Wells and Injection: (244457, 34)\n",
      "Merged Injection with AllWells: (195422, 38)\n",
      "Saved Injection data for year 2017.\n"
     ]
    }
   ],
   "source": [
    "import os\n",
    "import pandas as pd\n",
    "import glob\n",
    "\n",
    "# Load allwells data\n",
    "allwells = pd.read_csv(\"AllWellsCV.csv\", dtype={'API': str})\n",
    "allwells['API'] = allwells['API'].str.strip().str[2:]  # Ensure consistent formatting\n",
    "\n",
    "# Define input directory\n",
    "data_dir = r'C:\\Users\\betebari\\Documents\\briny-injection-AqExemptions\\Allannualdatacsv'\n",
    "\n",
    "# Process files for a specific year\n",
    "for year in range(1977, 2019):\n",
    "    print(f\"Processing data for year: {year}\")\n",
    "    \n",
    "    # Dynamically find files\n",
    "    try:\n",
    "        wells_path = glob.glob(os.path.join(data_dir, f'{year}*Wells.csv'))[0]\n",
    "        inj_path = glob.glob(os.path.join(data_dir, f'{year}*Injection.csv'))[0]\n",
    "        print(f\"Found files: {wells_path}, {inj_path}\")\n",
    "    except IndexError:\n",
    "        print(f\"Missing files for year {year}. Skipping...\")\n",
    "        continue\n",
    "\n",
    "    # Load data\n",
    "    wells = pd.read_csv(wells_path, encoding=\"ISO-8859-1\", dtype={'PWT__ID': str})\n",
    "    inj = pd.read_csv(inj_path, encoding=\"ISO-8859-1\", dtype={'PWT__ID': str})\n",
    "\n",
    "    # Standardize PWT__ID format\n",
    "    wells['PWT__ID'] = wells['PWT__ID'].astype(str).str.zfill(10).str.strip()\n",
    "    inj['PWT__ID'] = inj['PWT__ID'].astype(str).str.zfill(10).str.strip()\n",
    "\n",
    "    # Standardize APINumber to match allwells API\n",
    "    wells['APINumber'] = wells['APINumber'].astype(str).str.strip()\n",
    "    allwells['API'] = allwells['API'].astype(str).str.strip()\n",
    "\n",
    "    # Debugging PWT__ID\n",
    "    print(f\"Wells PWT__ID Range: {wells['PWT__ID'].min()} - {wells['PWT__ID'].max()}\")\n",
    "    print(f\"Injection PWT__ID Range: {inj['PWT__ID'].min()} - {inj['PWT__ID'].max()}\")\n",
    "    common_ids = set(wells['PWT__ID']).intersection(set(inj['PWT__ID']))\n",
    "    print(f\"Number of matching PWT__ID values: {len(common_ids)}\")\n",
    "\n",
    "    # Merge Wells and Injection data\n",
    "    inj_1 = pd.merge(wells, inj, on='PWT__ID', how='inner')\n",
    "    print(f\"Merged Wells and Injection: {inj_1.shape}\")\n",
    "    if inj_1.empty:\n",
    "        print(f\"No data after merging Wells and Injection for year {year}. Skipping...\")\n",
    "        continue\n",
    "\n",
    "    # Merge with AllWells\n",
    "    inj_2 = pd.merge(inj_1, allwells, left_on='APINumber', right_on='API', how='inner')\n",
    "    print(f\"Merged Injection with AllWells: {inj_2.shape}\")\n",
    "    if inj_2.empty:\n",
    "        print(f\"No data after merging Injection and AllWells for year {year}. Skipping...\")\n",
    "        continue\n",
    "\n",
    "    # Save merged data\n",
    "    output_dir = r'C:\\Users\\betebari\\Documents\\briny-injection-AqExemptions\\Allprocessed'\n",
    "    os.makedirs(output_dir, exist_ok=True)\n",
    "    inj_2.to_csv(os.path.join(output_dir, f'injection_{year}.csv'), index=False)\n",
    "    print(f\"Saved Injection data for year {year}.\")"
   ]
  },
  {
   "cell_type": "code",
   "execution_count": 23,
   "id": "5324e7d0-9c81-4de0-a4e8-79ce45236d57",
   "metadata": {},
   "outputs": [
    {
     "name": "stdout",
     "output_type": "stream",
     "text": [
      "Processing file: C:\\Users\\betebari\\Documents\\briny-injection-AqExemptions\\Allprocessed\\injection_1977.csv\n",
      "Processing file: C:\\Users\\betebari\\Documents\\briny-injection-AqExemptions\\Allprocessed\\injection_1978.csv\n"
     ]
    },
    {
     "name": "stderr",
     "output_type": "stream",
     "text": [
      "C:\\Users\\betebari\\AppData\\Local\\Temp\\ipykernel_808\\34664749.py:18: DtypeWarning: Columns (31,32) have mixed types. Specify dtype option on import or set low_memory=False.\n",
      "  yearly_data = pd.read_csv(file)\n",
      "C:\\Users\\betebari\\AppData\\Local\\Temp\\ipykernel_808\\34664749.py:18: DtypeWarning: Columns (31,32) have mixed types. Specify dtype option on import or set low_memory=False.\n",
      "  yearly_data = pd.read_csv(file)\n"
     ]
    },
    {
     "name": "stdout",
     "output_type": "stream",
     "text": [
      "Processing file: C:\\Users\\betebari\\Documents\\briny-injection-AqExemptions\\Allprocessed\\injection_1979.csv\n",
      "Processing file: C:\\Users\\betebari\\Documents\\briny-injection-AqExemptions\\Allprocessed\\injection_1980.csv\n"
     ]
    },
    {
     "name": "stderr",
     "output_type": "stream",
     "text": [
      "C:\\Users\\betebari\\AppData\\Local\\Temp\\ipykernel_808\\34664749.py:18: DtypeWarning: Columns (31,32) have mixed types. Specify dtype option on import or set low_memory=False.\n",
      "  yearly_data = pd.read_csv(file)\n",
      "C:\\Users\\betebari\\AppData\\Local\\Temp\\ipykernel_808\\34664749.py:18: DtypeWarning: Columns (31,32) have mixed types. Specify dtype option on import or set low_memory=False.\n",
      "  yearly_data = pd.read_csv(file)\n"
     ]
    },
    {
     "name": "stdout",
     "output_type": "stream",
     "text": [
      "Processing file: C:\\Users\\betebari\\Documents\\briny-injection-AqExemptions\\Allprocessed\\injection_1981.csv\n"
     ]
    },
    {
     "name": "stderr",
     "output_type": "stream",
     "text": [
      "C:\\Users\\betebari\\AppData\\Local\\Temp\\ipykernel_808\\34664749.py:18: DtypeWarning: Columns (31,32) have mixed types. Specify dtype option on import or set low_memory=False.\n",
      "  yearly_data = pd.read_csv(file)\n"
     ]
    },
    {
     "name": "stdout",
     "output_type": "stream",
     "text": [
      "Processing file: C:\\Users\\betebari\\Documents\\briny-injection-AqExemptions\\Allprocessed\\injection_1982.csv\n"
     ]
    },
    {
     "name": "stderr",
     "output_type": "stream",
     "text": [
      "C:\\Users\\betebari\\AppData\\Local\\Temp\\ipykernel_808\\34664749.py:18: DtypeWarning: Columns (31,32) have mixed types. Specify dtype option on import or set low_memory=False.\n",
      "  yearly_data = pd.read_csv(file)\n"
     ]
    },
    {
     "name": "stdout",
     "output_type": "stream",
     "text": [
      "Processing file: C:\\Users\\betebari\\Documents\\briny-injection-AqExemptions\\Allprocessed\\injection_1983.csv\n"
     ]
    },
    {
     "name": "stderr",
     "output_type": "stream",
     "text": [
      "C:\\Users\\betebari\\AppData\\Local\\Temp\\ipykernel_808\\34664749.py:18: DtypeWarning: Columns (31,32) have mixed types. Specify dtype option on import or set low_memory=False.\n",
      "  yearly_data = pd.read_csv(file)\n"
     ]
    },
    {
     "name": "stdout",
     "output_type": "stream",
     "text": [
      "Processing file: C:\\Users\\betebari\\Documents\\briny-injection-AqExemptions\\Allprocessed\\injection_1984.csv\n"
     ]
    },
    {
     "name": "stderr",
     "output_type": "stream",
     "text": [
      "C:\\Users\\betebari\\AppData\\Local\\Temp\\ipykernel_808\\34664749.py:18: DtypeWarning: Columns (31,32) have mixed types. Specify dtype option on import or set low_memory=False.\n",
      "  yearly_data = pd.read_csv(file)\n"
     ]
    },
    {
     "name": "stdout",
     "output_type": "stream",
     "text": [
      "Processing file: C:\\Users\\betebari\\Documents\\briny-injection-AqExemptions\\Allprocessed\\injection_1985.csv\n"
     ]
    },
    {
     "name": "stderr",
     "output_type": "stream",
     "text": [
      "C:\\Users\\betebari\\AppData\\Local\\Temp\\ipykernel_808\\34664749.py:18: DtypeWarning: Columns (31,32) have mixed types. Specify dtype option on import or set low_memory=False.\n",
      "  yearly_data = pd.read_csv(file)\n"
     ]
    },
    {
     "name": "stdout",
     "output_type": "stream",
     "text": [
      "Processing file: C:\\Users\\betebari\\Documents\\briny-injection-AqExemptions\\Allprocessed\\injection_1986.csv\n"
     ]
    },
    {
     "name": "stderr",
     "output_type": "stream",
     "text": [
      "C:\\Users\\betebari\\AppData\\Local\\Temp\\ipykernel_808\\34664749.py:18: DtypeWarning: Columns (31,32) have mixed types. Specify dtype option on import or set low_memory=False.\n",
      "  yearly_data = pd.read_csv(file)\n"
     ]
    },
    {
     "name": "stdout",
     "output_type": "stream",
     "text": [
      "Processing file: C:\\Users\\betebari\\Documents\\briny-injection-AqExemptions\\Allprocessed\\injection_1987.csv\n"
     ]
    },
    {
     "name": "stderr",
     "output_type": "stream",
     "text": [
      "C:\\Users\\betebari\\AppData\\Local\\Temp\\ipykernel_808\\34664749.py:18: DtypeWarning: Columns (31,32) have mixed types. Specify dtype option on import or set low_memory=False.\n",
      "  yearly_data = pd.read_csv(file)\n"
     ]
    },
    {
     "name": "stdout",
     "output_type": "stream",
     "text": [
      "Processing file: C:\\Users\\betebari\\Documents\\briny-injection-AqExemptions\\Allprocessed\\injection_1988.csv\n"
     ]
    },
    {
     "name": "stderr",
     "output_type": "stream",
     "text": [
      "C:\\Users\\betebari\\AppData\\Local\\Temp\\ipykernel_808\\34664749.py:18: DtypeWarning: Columns (31,32) have mixed types. Specify dtype option on import or set low_memory=False.\n",
      "  yearly_data = pd.read_csv(file)\n"
     ]
    },
    {
     "name": "stdout",
     "output_type": "stream",
     "text": [
      "Processing file: C:\\Users\\betebari\\Documents\\briny-injection-AqExemptions\\Allprocessed\\injection_1990.csv\n"
     ]
    },
    {
     "name": "stderr",
     "output_type": "stream",
     "text": [
      "C:\\Users\\betebari\\AppData\\Local\\Temp\\ipykernel_808\\34664749.py:18: DtypeWarning: Columns (31,32) have mixed types. Specify dtype option on import or set low_memory=False.\n",
      "  yearly_data = pd.read_csv(file)\n"
     ]
    },
    {
     "name": "stdout",
     "output_type": "stream",
     "text": [
      "Processing file: C:\\Users\\betebari\\Documents\\briny-injection-AqExemptions\\Allprocessed\\injection_1991.csv\n"
     ]
    },
    {
     "name": "stderr",
     "output_type": "stream",
     "text": [
      "C:\\Users\\betebari\\AppData\\Local\\Temp\\ipykernel_808\\34664749.py:18: DtypeWarning: Columns (31,32) have mixed types. Specify dtype option on import or set low_memory=False.\n",
      "  yearly_data = pd.read_csv(file)\n"
     ]
    },
    {
     "name": "stdout",
     "output_type": "stream",
     "text": [
      "Processing file: C:\\Users\\betebari\\Documents\\briny-injection-AqExemptions\\Allprocessed\\injection_1992.csv\n"
     ]
    },
    {
     "name": "stderr",
     "output_type": "stream",
     "text": [
      "C:\\Users\\betebari\\AppData\\Local\\Temp\\ipykernel_808\\34664749.py:18: DtypeWarning: Columns (31,32) have mixed types. Specify dtype option on import or set low_memory=False.\n",
      "  yearly_data = pd.read_csv(file)\n"
     ]
    },
    {
     "name": "stdout",
     "output_type": "stream",
     "text": [
      "Processing file: C:\\Users\\betebari\\Documents\\briny-injection-AqExemptions\\Allprocessed\\injection_1993.csv\n"
     ]
    },
    {
     "name": "stderr",
     "output_type": "stream",
     "text": [
      "C:\\Users\\betebari\\AppData\\Local\\Temp\\ipykernel_808\\34664749.py:18: DtypeWarning: Columns (31,32) have mixed types. Specify dtype option on import or set low_memory=False.\n",
      "  yearly_data = pd.read_csv(file)\n"
     ]
    },
    {
     "name": "stdout",
     "output_type": "stream",
     "text": [
      "Processing file: C:\\Users\\betebari\\Documents\\briny-injection-AqExemptions\\Allprocessed\\injection_1994.csv\n"
     ]
    },
    {
     "name": "stderr",
     "output_type": "stream",
     "text": [
      "C:\\Users\\betebari\\AppData\\Local\\Temp\\ipykernel_808\\34664749.py:18: DtypeWarning: Columns (31,32) have mixed types. Specify dtype option on import or set low_memory=False.\n",
      "  yearly_data = pd.read_csv(file)\n"
     ]
    },
    {
     "name": "stdout",
     "output_type": "stream",
     "text": [
      "Processing file: C:\\Users\\betebari\\Documents\\briny-injection-AqExemptions\\Allprocessed\\injection_1995.csv\n"
     ]
    },
    {
     "name": "stderr",
     "output_type": "stream",
     "text": [
      "C:\\Users\\betebari\\AppData\\Local\\Temp\\ipykernel_808\\34664749.py:18: DtypeWarning: Columns (31,32) have mixed types. Specify dtype option on import or set low_memory=False.\n",
      "  yearly_data = pd.read_csv(file)\n"
     ]
    },
    {
     "name": "stdout",
     "output_type": "stream",
     "text": [
      "Processing file: C:\\Users\\betebari\\Documents\\briny-injection-AqExemptions\\Allprocessed\\injection_1996.csv\n"
     ]
    },
    {
     "name": "stderr",
     "output_type": "stream",
     "text": [
      "C:\\Users\\betebari\\AppData\\Local\\Temp\\ipykernel_808\\34664749.py:18: DtypeWarning: Columns (31,32) have mixed types. Specify dtype option on import or set low_memory=False.\n",
      "  yearly_data = pd.read_csv(file)\n"
     ]
    },
    {
     "name": "stdout",
     "output_type": "stream",
     "text": [
      "Processing file: C:\\Users\\betebari\\Documents\\briny-injection-AqExemptions\\Allprocessed\\injection_1997.csv\n"
     ]
    },
    {
     "name": "stderr",
     "output_type": "stream",
     "text": [
      "C:\\Users\\betebari\\AppData\\Local\\Temp\\ipykernel_808\\34664749.py:18: DtypeWarning: Columns (31,32) have mixed types. Specify dtype option on import or set low_memory=False.\n",
      "  yearly_data = pd.read_csv(file)\n"
     ]
    },
    {
     "name": "stdout",
     "output_type": "stream",
     "text": [
      "Processing file: C:\\Users\\betebari\\Documents\\briny-injection-AqExemptions\\Allprocessed\\injection_1998.csv\n"
     ]
    },
    {
     "name": "stderr",
     "output_type": "stream",
     "text": [
      "C:\\Users\\betebari\\AppData\\Local\\Temp\\ipykernel_808\\34664749.py:18: DtypeWarning: Columns (31,32) have mixed types. Specify dtype option on import or set low_memory=False.\n",
      "  yearly_data = pd.read_csv(file)\n"
     ]
    },
    {
     "name": "stdout",
     "output_type": "stream",
     "text": [
      "Processing file: C:\\Users\\betebari\\Documents\\briny-injection-AqExemptions\\Allprocessed\\injection_1999.csv\n"
     ]
    },
    {
     "name": "stderr",
     "output_type": "stream",
     "text": [
      "C:\\Users\\betebari\\AppData\\Local\\Temp\\ipykernel_808\\34664749.py:18: DtypeWarning: Columns (31,32) have mixed types. Specify dtype option on import or set low_memory=False.\n",
      "  yearly_data = pd.read_csv(file)\n"
     ]
    },
    {
     "name": "stdout",
     "output_type": "stream",
     "text": [
      "Processing file: C:\\Users\\betebari\\Documents\\briny-injection-AqExemptions\\Allprocessed\\injection_2000.csv\n",
      "Processing file: C:\\Users\\betebari\\Documents\\briny-injection-AqExemptions\\Allprocessed\\injection_2001.csv\n",
      "Processing file: C:\\Users\\betebari\\Documents\\briny-injection-AqExemptions\\Allprocessed\\injection_2002.csv\n",
      "Processing file: C:\\Users\\betebari\\Documents\\briny-injection-AqExemptions\\Allprocessed\\injection_2003.csv\n",
      "Processing file: C:\\Users\\betebari\\Documents\\briny-injection-AqExemptions\\Allprocessed\\injection_2004.csv\n"
     ]
    },
    {
     "name": "stderr",
     "output_type": "stream",
     "text": [
      "C:\\Users\\betebari\\AppData\\Local\\Temp\\ipykernel_808\\34664749.py:18: DtypeWarning: Columns (6) have mixed types. Specify dtype option on import or set low_memory=False.\n",
      "  yearly_data = pd.read_csv(file)\n"
     ]
    },
    {
     "name": "stdout",
     "output_type": "stream",
     "text": [
      "Processing file: C:\\Users\\betebari\\Documents\\briny-injection-AqExemptions\\Allprocessed\\injection_2005.csv\n"
     ]
    },
    {
     "name": "stderr",
     "output_type": "stream",
     "text": [
      "C:\\Users\\betebari\\AppData\\Local\\Temp\\ipykernel_808\\34664749.py:18: DtypeWarning: Columns (6) have mixed types. Specify dtype option on import or set low_memory=False.\n",
      "  yearly_data = pd.read_csv(file)\n"
     ]
    },
    {
     "name": "stdout",
     "output_type": "stream",
     "text": [
      "Processing file: C:\\Users\\betebari\\Documents\\briny-injection-AqExemptions\\Allprocessed\\injection_2006.csv\n"
     ]
    },
    {
     "name": "stderr",
     "output_type": "stream",
     "text": [
      "C:\\Users\\betebari\\AppData\\Local\\Temp\\ipykernel_808\\34664749.py:18: DtypeWarning: Columns (6) have mixed types. Specify dtype option on import or set low_memory=False.\n",
      "  yearly_data = pd.read_csv(file)\n"
     ]
    },
    {
     "name": "stdout",
     "output_type": "stream",
     "text": [
      "Processing file: C:\\Users\\betebari\\Documents\\briny-injection-AqExemptions\\Allprocessed\\injection_2007.csv\n"
     ]
    },
    {
     "name": "stderr",
     "output_type": "stream",
     "text": [
      "C:\\Users\\betebari\\AppData\\Local\\Temp\\ipykernel_808\\34664749.py:18: DtypeWarning: Columns (6) have mixed types. Specify dtype option on import or set low_memory=False.\n",
      "  yearly_data = pd.read_csv(file)\n"
     ]
    },
    {
     "name": "stdout",
     "output_type": "stream",
     "text": [
      "Processing file: C:\\Users\\betebari\\Documents\\briny-injection-AqExemptions\\Allprocessed\\injection_2008.csv\n"
     ]
    },
    {
     "name": "stderr",
     "output_type": "stream",
     "text": [
      "C:\\Users\\betebari\\AppData\\Local\\Temp\\ipykernel_808\\34664749.py:18: DtypeWarning: Columns (6) have mixed types. Specify dtype option on import or set low_memory=False.\n",
      "  yearly_data = pd.read_csv(file)\n"
     ]
    },
    {
     "name": "stdout",
     "output_type": "stream",
     "text": [
      "Processing file: C:\\Users\\betebari\\Documents\\briny-injection-AqExemptions\\Allprocessed\\injection_2009.csv\n"
     ]
    },
    {
     "name": "stderr",
     "output_type": "stream",
     "text": [
      "C:\\Users\\betebari\\AppData\\Local\\Temp\\ipykernel_808\\34664749.py:18: DtypeWarning: Columns (6) have mixed types. Specify dtype option on import or set low_memory=False.\n",
      "  yearly_data = pd.read_csv(file)\n"
     ]
    },
    {
     "name": "stdout",
     "output_type": "stream",
     "text": [
      "Processing file: C:\\Users\\betebari\\Documents\\briny-injection-AqExemptions\\Allprocessed\\injection_2010.csv\n"
     ]
    },
    {
     "name": "stderr",
     "output_type": "stream",
     "text": [
      "C:\\Users\\betebari\\AppData\\Local\\Temp\\ipykernel_808\\34664749.py:18: DtypeWarning: Columns (6) have mixed types. Specify dtype option on import or set low_memory=False.\n",
      "  yearly_data = pd.read_csv(file)\n"
     ]
    },
    {
     "name": "stdout",
     "output_type": "stream",
     "text": [
      "Processing file: C:\\Users\\betebari\\Documents\\briny-injection-AqExemptions\\Allprocessed\\injection_2011.csv\n"
     ]
    },
    {
     "name": "stderr",
     "output_type": "stream",
     "text": [
      "C:\\Users\\betebari\\AppData\\Local\\Temp\\ipykernel_808\\34664749.py:18: DtypeWarning: Columns (6) have mixed types. Specify dtype option on import or set low_memory=False.\n",
      "  yearly_data = pd.read_csv(file)\n"
     ]
    },
    {
     "name": "stdout",
     "output_type": "stream",
     "text": [
      "Processing file: C:\\Users\\betebari\\Documents\\briny-injection-AqExemptions\\Allprocessed\\injection_2012.csv\n"
     ]
    },
    {
     "name": "stderr",
     "output_type": "stream",
     "text": [
      "C:\\Users\\betebari\\AppData\\Local\\Temp\\ipykernel_808\\34664749.py:18: DtypeWarning: Columns (6) have mixed types. Specify dtype option on import or set low_memory=False.\n",
      "  yearly_data = pd.read_csv(file)\n"
     ]
    },
    {
     "name": "stdout",
     "output_type": "stream",
     "text": [
      "Processing file: C:\\Users\\betebari\\Documents\\briny-injection-AqExemptions\\Allprocessed\\injection_2013.csv\n"
     ]
    },
    {
     "name": "stderr",
     "output_type": "stream",
     "text": [
      "C:\\Users\\betebari\\AppData\\Local\\Temp\\ipykernel_808\\34664749.py:18: DtypeWarning: Columns (6) have mixed types. Specify dtype option on import or set low_memory=False.\n",
      "  yearly_data = pd.read_csv(file)\n"
     ]
    },
    {
     "name": "stdout",
     "output_type": "stream",
     "text": [
      "Processing file: C:\\Users\\betebari\\Documents\\briny-injection-AqExemptions\\Allprocessed\\injection_2014.csv\n"
     ]
    },
    {
     "name": "stderr",
     "output_type": "stream",
     "text": [
      "C:\\Users\\betebari\\AppData\\Local\\Temp\\ipykernel_808\\34664749.py:18: DtypeWarning: Columns (6) have mixed types. Specify dtype option on import or set low_memory=False.\n",
      "  yearly_data = pd.read_csv(file)\n"
     ]
    },
    {
     "name": "stdout",
     "output_type": "stream",
     "text": [
      "Processing file: C:\\Users\\betebari\\Documents\\briny-injection-AqExemptions\\Allprocessed\\injection_2015.csv\n"
     ]
    },
    {
     "name": "stderr",
     "output_type": "stream",
     "text": [
      "C:\\Users\\betebari\\AppData\\Local\\Temp\\ipykernel_808\\34664749.py:18: DtypeWarning: Columns (6) have mixed types. Specify dtype option on import or set low_memory=False.\n",
      "  yearly_data = pd.read_csv(file)\n"
     ]
    },
    {
     "name": "stdout",
     "output_type": "stream",
     "text": [
      "Processing file: C:\\Users\\betebari\\Documents\\briny-injection-AqExemptions\\Allprocessed\\injection_2016.csv\n"
     ]
    },
    {
     "name": "stderr",
     "output_type": "stream",
     "text": [
      "C:\\Users\\betebari\\AppData\\Local\\Temp\\ipykernel_808\\34664749.py:18: DtypeWarning: Columns (6) have mixed types. Specify dtype option on import or set low_memory=False.\n",
      "  yearly_data = pd.read_csv(file)\n"
     ]
    },
    {
     "name": "stdout",
     "output_type": "stream",
     "text": [
      "Processing file: C:\\Users\\betebari\\Documents\\briny-injection-AqExemptions\\Allprocessed\\injection_2017.csv\n"
     ]
    },
    {
     "name": "stderr",
     "output_type": "stream",
     "text": [
      "C:\\Users\\betebari\\AppData\\Local\\Temp\\ipykernel_808\\34664749.py:18: DtypeWarning: Columns (6) have mixed types. Specify dtype option on import or set low_memory=False.\n",
      "  yearly_data = pd.read_csv(file)\n"
     ]
    },
    {
     "name": "stdout",
     "output_type": "stream",
     "text": [
      "Merged data saved to C:\\Users\\betebari\\Documents\\briny-injection-AqExemptions\\merged_injection_data.csv\n",
      "Plot saved to C:\\Users\\betebari\\Documents\\briny-injection-AqExemptions\\injection_plot.pdf\n"
     ]
    }
   ],
   "source": [
    "import os\n",
    "import glob\n",
    "import pandas as pd\n",
    "import matplotlib.pyplot as plt\n",
    "from matplotlib.backends.backend_pdf import PdfPages\n",
    "\n",
    "# Define directories\n",
    "output_dir = r'C:\\Users\\betebari\\Documents\\briny-injection-AqExemptions\\Allprocessed'\n",
    "merged_output_path = r'C:\\Users\\betebari\\Documents\\briny-injection-AqExemptions\\merged_injection_data.csv'\n",
    "pdf_output_path = r'C:\\Users\\betebari\\Documents\\briny-injection-AqExemptions\\injection_plot.pdf'\n",
    "\n",
    "# Initialize an empty DataFrame to store all years' data\n",
    "all_years_data = pd.DataFrame()\n",
    "\n",
    "# Loop through all processed files\n",
    "for file in glob.glob(os.path.join(output_dir, 'injection_*.csv')):\n",
    "    print(f\"Processing file: {file}\")\n",
    "    yearly_data = pd.read_csv(file)\n",
    "    all_years_data = pd.concat([all_years_data, yearly_data], ignore_index=True)\n",
    "\n",
    "# Save the merged data to a single CSV file\n",
    "all_years_data.to_csv(merged_output_path, index=False)\n",
    "print(f\"Merged data saved to {merged_output_path}\")\n",
    "\n",
    "# Plot the data (example: yearly total injection volumes)\n",
    "# Replace 'InjectionVolumeColumnName' with the actual column name in your data\n",
    "if 'Steam/WaterInjected(BBL)' in all_years_data.columns:\n",
    "    all_years_data['year'] = pd.to_datetime(all_years_data['InjectionDate']).dt.year\n",
    "    yearly_totals = all_years_data.groupby('year')['Steam/WaterInjected(BBL)'].sum()\n",
    "\n",
    "    plt.figure(figsize=(10, 6))\n",
    "    plt.plot(yearly_totals.index, yearly_totals.values, marker='o')\n",
    "    plt.title(\"Total Injection Volume by Year\")\n",
    "    plt.xlabel(\"Year\")\n",
    "    plt.ylabel(\"Total Volume (BBL)\")\n",
    "    plt.grid(True)\n",
    "\n",
    "    # Save the plot to a PDF\n",
    "    with PdfPages(pdf_output_path) as pdf:\n",
    "        pdf.savefig()  # Save the current figure\n",
    "        plt.close()\n",
    "    print(f\"Plot saved to {pdf_output_path}\")\n",
    "else:\n",
    "    print(\"Column 'Steam/WaterInjected(BBL)' not found in data.\")"
   ]
  },
  {
   "cell_type": "code",
   "execution_count": null,
   "id": "9bdffaa4-719c-481a-b9a9-41e615b35530",
   "metadata": {},
   "outputs": [
    {
     "name": "stdout",
     "output_type": "stream",
     "text": [
      "Processing file: C:\\Users\\betebari\\Documents\\briny-injection-AqExemptions\\Allprocessed\\injection_1977.csv\n",
      "Processing file: C:\\Users\\betebari\\Documents\\briny-injection-AqExemptions\\Allprocessed\\injection_1978.csv\n"
     ]
    },
    {
     "name": "stderr",
     "output_type": "stream",
     "text": [
      "C:\\Users\\betebari\\AppData\\Local\\Temp\\ipykernel_808\\1633092741.py:18: DtypeWarning: Columns (31,32) have mixed types. Specify dtype option on import or set low_memory=False.\n",
      "  yearly_data = pd.read_csv(file)\n",
      "C:\\Users\\betebari\\AppData\\Local\\Temp\\ipykernel_808\\1633092741.py:18: DtypeWarning: Columns (31,32) have mixed types. Specify dtype option on import or set low_memory=False.\n",
      "  yearly_data = pd.read_csv(file)\n"
     ]
    },
    {
     "name": "stdout",
     "output_type": "stream",
     "text": [
      "Processing file: C:\\Users\\betebari\\Documents\\briny-injection-AqExemptions\\Allprocessed\\injection_1979.csv\n",
      "Processing file: C:\\Users\\betebari\\Documents\\briny-injection-AqExemptions\\Allprocessed\\injection_1980.csv\n"
     ]
    },
    {
     "name": "stderr",
     "output_type": "stream",
     "text": [
      "C:\\Users\\betebari\\AppData\\Local\\Temp\\ipykernel_808\\1633092741.py:18: DtypeWarning: Columns (31,32) have mixed types. Specify dtype option on import or set low_memory=False.\n",
      "  yearly_data = pd.read_csv(file)\n",
      "C:\\Users\\betebari\\AppData\\Local\\Temp\\ipykernel_808\\1633092741.py:18: DtypeWarning: Columns (31,32) have mixed types. Specify dtype option on import or set low_memory=False.\n",
      "  yearly_data = pd.read_csv(file)\n"
     ]
    },
    {
     "name": "stdout",
     "output_type": "stream",
     "text": [
      "Processing file: C:\\Users\\betebari\\Documents\\briny-injection-AqExemptions\\Allprocessed\\injection_1981.csv\n"
     ]
    },
    {
     "name": "stderr",
     "output_type": "stream",
     "text": [
      "C:\\Users\\betebari\\AppData\\Local\\Temp\\ipykernel_808\\1633092741.py:18: DtypeWarning: Columns (31,32) have mixed types. Specify dtype option on import or set low_memory=False.\n",
      "  yearly_data = pd.read_csv(file)\n"
     ]
    },
    {
     "name": "stdout",
     "output_type": "stream",
     "text": [
      "Processing file: C:\\Users\\betebari\\Documents\\briny-injection-AqExemptions\\Allprocessed\\injection_1982.csv\n"
     ]
    },
    {
     "name": "stderr",
     "output_type": "stream",
     "text": [
      "C:\\Users\\betebari\\AppData\\Local\\Temp\\ipykernel_808\\1633092741.py:18: DtypeWarning: Columns (31,32) have mixed types. Specify dtype option on import or set low_memory=False.\n",
      "  yearly_data = pd.read_csv(file)\n"
     ]
    },
    {
     "name": "stdout",
     "output_type": "stream",
     "text": [
      "Processing file: C:\\Users\\betebari\\Documents\\briny-injection-AqExemptions\\Allprocessed\\injection_1983.csv\n"
     ]
    },
    {
     "name": "stderr",
     "output_type": "stream",
     "text": [
      "C:\\Users\\betebari\\AppData\\Local\\Temp\\ipykernel_808\\1633092741.py:18: DtypeWarning: Columns (31,32) have mixed types. Specify dtype option on import or set low_memory=False.\n",
      "  yearly_data = pd.read_csv(file)\n"
     ]
    },
    {
     "name": "stdout",
     "output_type": "stream",
     "text": [
      "Processing file: C:\\Users\\betebari\\Documents\\briny-injection-AqExemptions\\Allprocessed\\injection_1984.csv\n"
     ]
    },
    {
     "name": "stderr",
     "output_type": "stream",
     "text": [
      "C:\\Users\\betebari\\AppData\\Local\\Temp\\ipykernel_808\\1633092741.py:18: DtypeWarning: Columns (31,32) have mixed types. Specify dtype option on import or set low_memory=False.\n",
      "  yearly_data = pd.read_csv(file)\n"
     ]
    },
    {
     "name": "stdout",
     "output_type": "stream",
     "text": [
      "Processing file: C:\\Users\\betebari\\Documents\\briny-injection-AqExemptions\\Allprocessed\\injection_1985.csv\n"
     ]
    },
    {
     "name": "stderr",
     "output_type": "stream",
     "text": [
      "C:\\Users\\betebari\\AppData\\Local\\Temp\\ipykernel_808\\1633092741.py:18: DtypeWarning: Columns (31,32) have mixed types. Specify dtype option on import or set low_memory=False.\n",
      "  yearly_data = pd.read_csv(file)\n"
     ]
    },
    {
     "name": "stdout",
     "output_type": "stream",
     "text": [
      "Processing file: C:\\Users\\betebari\\Documents\\briny-injection-AqExemptions\\Allprocessed\\injection_1986.csv\n"
     ]
    },
    {
     "name": "stderr",
     "output_type": "stream",
     "text": [
      "C:\\Users\\betebari\\AppData\\Local\\Temp\\ipykernel_808\\1633092741.py:18: DtypeWarning: Columns (31,32) have mixed types. Specify dtype option on import or set low_memory=False.\n",
      "  yearly_data = pd.read_csv(file)\n"
     ]
    },
    {
     "name": "stdout",
     "output_type": "stream",
     "text": [
      "Processing file: C:\\Users\\betebari\\Documents\\briny-injection-AqExemptions\\Allprocessed\\injection_1987.csv\n"
     ]
    },
    {
     "name": "stderr",
     "output_type": "stream",
     "text": [
      "C:\\Users\\betebari\\AppData\\Local\\Temp\\ipykernel_808\\1633092741.py:18: DtypeWarning: Columns (31,32) have mixed types. Specify dtype option on import or set low_memory=False.\n",
      "  yearly_data = pd.read_csv(file)\n"
     ]
    },
    {
     "name": "stdout",
     "output_type": "stream",
     "text": [
      "Processing file: C:\\Users\\betebari\\Documents\\briny-injection-AqExemptions\\Allprocessed\\injection_1988.csv\n"
     ]
    },
    {
     "name": "stderr",
     "output_type": "stream",
     "text": [
      "C:\\Users\\betebari\\AppData\\Local\\Temp\\ipykernel_808\\1633092741.py:18: DtypeWarning: Columns (31,32) have mixed types. Specify dtype option on import or set low_memory=False.\n",
      "  yearly_data = pd.read_csv(file)\n"
     ]
    },
    {
     "name": "stdout",
     "output_type": "stream",
     "text": [
      "Processing file: C:\\Users\\betebari\\Documents\\briny-injection-AqExemptions\\Allprocessed\\injection_1990.csv\n"
     ]
    },
    {
     "name": "stderr",
     "output_type": "stream",
     "text": [
      "C:\\Users\\betebari\\AppData\\Local\\Temp\\ipykernel_808\\1633092741.py:18: DtypeWarning: Columns (31,32) have mixed types. Specify dtype option on import or set low_memory=False.\n",
      "  yearly_data = pd.read_csv(file)\n"
     ]
    },
    {
     "name": "stdout",
     "output_type": "stream",
     "text": [
      "Processing file: C:\\Users\\betebari\\Documents\\briny-injection-AqExemptions\\Allprocessed\\injection_1991.csv\n"
     ]
    },
    {
     "name": "stderr",
     "output_type": "stream",
     "text": [
      "C:\\Users\\betebari\\AppData\\Local\\Temp\\ipykernel_808\\1633092741.py:18: DtypeWarning: Columns (31,32) have mixed types. Specify dtype option on import or set low_memory=False.\n",
      "  yearly_data = pd.read_csv(file)\n"
     ]
    },
    {
     "name": "stdout",
     "output_type": "stream",
     "text": [
      "Processing file: C:\\Users\\betebari\\Documents\\briny-injection-AqExemptions\\Allprocessed\\injection_1992.csv\n"
     ]
    },
    {
     "name": "stderr",
     "output_type": "stream",
     "text": [
      "C:\\Users\\betebari\\AppData\\Local\\Temp\\ipykernel_808\\1633092741.py:18: DtypeWarning: Columns (31,32) have mixed types. Specify dtype option on import or set low_memory=False.\n",
      "  yearly_data = pd.read_csv(file)\n"
     ]
    },
    {
     "name": "stdout",
     "output_type": "stream",
     "text": [
      "Processing file: C:\\Users\\betebari\\Documents\\briny-injection-AqExemptions\\Allprocessed\\injection_1993.csv\n"
     ]
    },
    {
     "name": "stderr",
     "output_type": "stream",
     "text": [
      "C:\\Users\\betebari\\AppData\\Local\\Temp\\ipykernel_808\\1633092741.py:18: DtypeWarning: Columns (31,32) have mixed types. Specify dtype option on import or set low_memory=False.\n",
      "  yearly_data = pd.read_csv(file)\n"
     ]
    },
    {
     "name": "stdout",
     "output_type": "stream",
     "text": [
      "Processing file: C:\\Users\\betebari\\Documents\\briny-injection-AqExemptions\\Allprocessed\\injection_1994.csv\n"
     ]
    },
    {
     "name": "stderr",
     "output_type": "stream",
     "text": [
      "C:\\Users\\betebari\\AppData\\Local\\Temp\\ipykernel_808\\1633092741.py:18: DtypeWarning: Columns (31,32) have mixed types. Specify dtype option on import or set low_memory=False.\n",
      "  yearly_data = pd.read_csv(file)\n"
     ]
    },
    {
     "name": "stdout",
     "output_type": "stream",
     "text": [
      "Processing file: C:\\Users\\betebari\\Documents\\briny-injection-AqExemptions\\Allprocessed\\injection_1995.csv\n"
     ]
    },
    {
     "name": "stderr",
     "output_type": "stream",
     "text": [
      "C:\\Users\\betebari\\AppData\\Local\\Temp\\ipykernel_808\\1633092741.py:18: DtypeWarning: Columns (31,32) have mixed types. Specify dtype option on import or set low_memory=False.\n",
      "  yearly_data = pd.read_csv(file)\n"
     ]
    },
    {
     "name": "stdout",
     "output_type": "stream",
     "text": [
      "Processing file: C:\\Users\\betebari\\Documents\\briny-injection-AqExemptions\\Allprocessed\\injection_1996.csv\n"
     ]
    },
    {
     "name": "stderr",
     "output_type": "stream",
     "text": [
      "C:\\Users\\betebari\\AppData\\Local\\Temp\\ipykernel_808\\1633092741.py:18: DtypeWarning: Columns (31,32) have mixed types. Specify dtype option on import or set low_memory=False.\n",
      "  yearly_data = pd.read_csv(file)\n"
     ]
    },
    {
     "name": "stdout",
     "output_type": "stream",
     "text": [
      "Processing file: C:\\Users\\betebari\\Documents\\briny-injection-AqExemptions\\Allprocessed\\injection_1997.csv\n"
     ]
    },
    {
     "name": "stderr",
     "output_type": "stream",
     "text": [
      "C:\\Users\\betebari\\AppData\\Local\\Temp\\ipykernel_808\\1633092741.py:18: DtypeWarning: Columns (31,32) have mixed types. Specify dtype option on import or set low_memory=False.\n",
      "  yearly_data = pd.read_csv(file)\n"
     ]
    },
    {
     "name": "stdout",
     "output_type": "stream",
     "text": [
      "Processing file: C:\\Users\\betebari\\Documents\\briny-injection-AqExemptions\\Allprocessed\\injection_1998.csv\n"
     ]
    },
    {
     "name": "stderr",
     "output_type": "stream",
     "text": [
      "C:\\Users\\betebari\\AppData\\Local\\Temp\\ipykernel_808\\1633092741.py:18: DtypeWarning: Columns (31,32) have mixed types. Specify dtype option on import or set low_memory=False.\n",
      "  yearly_data = pd.read_csv(file)\n"
     ]
    },
    {
     "name": "stdout",
     "output_type": "stream",
     "text": [
      "Processing file: C:\\Users\\betebari\\Documents\\briny-injection-AqExemptions\\Allprocessed\\injection_1999.csv\n"
     ]
    },
    {
     "name": "stderr",
     "output_type": "stream",
     "text": [
      "C:\\Users\\betebari\\AppData\\Local\\Temp\\ipykernel_808\\1633092741.py:18: DtypeWarning: Columns (31,32) have mixed types. Specify dtype option on import or set low_memory=False.\n",
      "  yearly_data = pd.read_csv(file)\n"
     ]
    },
    {
     "name": "stdout",
     "output_type": "stream",
     "text": [
      "Processing file: C:\\Users\\betebari\\Documents\\briny-injection-AqExemptions\\Allprocessed\\injection_2000.csv\n",
      "Processing file: C:\\Users\\betebari\\Documents\\briny-injection-AqExemptions\\Allprocessed\\injection_2001.csv\n",
      "Processing file: C:\\Users\\betebari\\Documents\\briny-injection-AqExemptions\\Allprocessed\\injection_2002.csv\n",
      "Processing file: C:\\Users\\betebari\\Documents\\briny-injection-AqExemptions\\Allprocessed\\injection_2003.csv\n",
      "Processing file: C:\\Users\\betebari\\Documents\\briny-injection-AqExemptions\\Allprocessed\\injection_2004.csv\n"
     ]
    },
    {
     "name": "stderr",
     "output_type": "stream",
     "text": [
      "C:\\Users\\betebari\\AppData\\Local\\Temp\\ipykernel_808\\1633092741.py:18: DtypeWarning: Columns (6) have mixed types. Specify dtype option on import or set low_memory=False.\n",
      "  yearly_data = pd.read_csv(file)\n"
     ]
    },
    {
     "name": "stdout",
     "output_type": "stream",
     "text": [
      "Processing file: C:\\Users\\betebari\\Documents\\briny-injection-AqExemptions\\Allprocessed\\injection_2005.csv\n"
     ]
    },
    {
     "name": "stderr",
     "output_type": "stream",
     "text": [
      "C:\\Users\\betebari\\AppData\\Local\\Temp\\ipykernel_808\\1633092741.py:18: DtypeWarning: Columns (6) have mixed types. Specify dtype option on import or set low_memory=False.\n",
      "  yearly_data = pd.read_csv(file)\n"
     ]
    },
    {
     "name": "stdout",
     "output_type": "stream",
     "text": [
      "Processing file: C:\\Users\\betebari\\Documents\\briny-injection-AqExemptions\\Allprocessed\\injection_2006.csv\n"
     ]
    },
    {
     "name": "stderr",
     "output_type": "stream",
     "text": [
      "C:\\Users\\betebari\\AppData\\Local\\Temp\\ipykernel_808\\1633092741.py:18: DtypeWarning: Columns (6) have mixed types. Specify dtype option on import or set low_memory=False.\n",
      "  yearly_data = pd.read_csv(file)\n"
     ]
    },
    {
     "name": "stdout",
     "output_type": "stream",
     "text": [
      "Processing file: C:\\Users\\betebari\\Documents\\briny-injection-AqExemptions\\Allprocessed\\injection_2007.csv\n"
     ]
    },
    {
     "name": "stderr",
     "output_type": "stream",
     "text": [
      "C:\\Users\\betebari\\AppData\\Local\\Temp\\ipykernel_808\\1633092741.py:18: DtypeWarning: Columns (6) have mixed types. Specify dtype option on import or set low_memory=False.\n",
      "  yearly_data = pd.read_csv(file)\n"
     ]
    },
    {
     "name": "stdout",
     "output_type": "stream",
     "text": [
      "Processing file: C:\\Users\\betebari\\Documents\\briny-injection-AqExemptions\\Allprocessed\\injection_2008.csv\n"
     ]
    },
    {
     "name": "stderr",
     "output_type": "stream",
     "text": [
      "C:\\Users\\betebari\\AppData\\Local\\Temp\\ipykernel_808\\1633092741.py:18: DtypeWarning: Columns (6) have mixed types. Specify dtype option on import or set low_memory=False.\n",
      "  yearly_data = pd.read_csv(file)\n"
     ]
    },
    {
     "name": "stdout",
     "output_type": "stream",
     "text": [
      "Processing file: C:\\Users\\betebari\\Documents\\briny-injection-AqExemptions\\Allprocessed\\injection_2009.csv\n"
     ]
    },
    {
     "name": "stderr",
     "output_type": "stream",
     "text": [
      "C:\\Users\\betebari\\AppData\\Local\\Temp\\ipykernel_808\\1633092741.py:18: DtypeWarning: Columns (6) have mixed types. Specify dtype option on import or set low_memory=False.\n",
      "  yearly_data = pd.read_csv(file)\n"
     ]
    },
    {
     "name": "stdout",
     "output_type": "stream",
     "text": [
      "Processing file: C:\\Users\\betebari\\Documents\\briny-injection-AqExemptions\\Allprocessed\\injection_2010.csv\n"
     ]
    },
    {
     "name": "stderr",
     "output_type": "stream",
     "text": [
      "C:\\Users\\betebari\\AppData\\Local\\Temp\\ipykernel_808\\1633092741.py:18: DtypeWarning: Columns (6) have mixed types. Specify dtype option on import or set low_memory=False.\n",
      "  yearly_data = pd.read_csv(file)\n"
     ]
    },
    {
     "name": "stdout",
     "output_type": "stream",
     "text": [
      "Processing file: C:\\Users\\betebari\\Documents\\briny-injection-AqExemptions\\Allprocessed\\injection_2011.csv\n"
     ]
    },
    {
     "name": "stderr",
     "output_type": "stream",
     "text": [
      "C:\\Users\\betebari\\AppData\\Local\\Temp\\ipykernel_808\\1633092741.py:18: DtypeWarning: Columns (6) have mixed types. Specify dtype option on import or set low_memory=False.\n",
      "  yearly_data = pd.read_csv(file)\n"
     ]
    },
    {
     "name": "stdout",
     "output_type": "stream",
     "text": [
      "Processing file: C:\\Users\\betebari\\Documents\\briny-injection-AqExemptions\\Allprocessed\\injection_2012.csv\n"
     ]
    },
    {
     "name": "stderr",
     "output_type": "stream",
     "text": [
      "C:\\Users\\betebari\\AppData\\Local\\Temp\\ipykernel_808\\1633092741.py:18: DtypeWarning: Columns (6) have mixed types. Specify dtype option on import or set low_memory=False.\n",
      "  yearly_data = pd.read_csv(file)\n"
     ]
    },
    {
     "name": "stdout",
     "output_type": "stream",
     "text": [
      "Processing file: C:\\Users\\betebari\\Documents\\briny-injection-AqExemptions\\Allprocessed\\injection_2013.csv\n"
     ]
    },
    {
     "name": "stderr",
     "output_type": "stream",
     "text": [
      "C:\\Users\\betebari\\AppData\\Local\\Temp\\ipykernel_808\\1633092741.py:18: DtypeWarning: Columns (6) have mixed types. Specify dtype option on import or set low_memory=False.\n",
      "  yearly_data = pd.read_csv(file)\n"
     ]
    },
    {
     "name": "stdout",
     "output_type": "stream",
     "text": [
      "Processing file: C:\\Users\\betebari\\Documents\\briny-injection-AqExemptions\\Allprocessed\\injection_2014.csv\n"
     ]
    },
    {
     "name": "stderr",
     "output_type": "stream",
     "text": [
      "C:\\Users\\betebari\\AppData\\Local\\Temp\\ipykernel_808\\1633092741.py:18: DtypeWarning: Columns (6) have mixed types. Specify dtype option on import or set low_memory=False.\n",
      "  yearly_data = pd.read_csv(file)\n"
     ]
    },
    {
     "name": "stdout",
     "output_type": "stream",
     "text": [
      "Processing file: C:\\Users\\betebari\\Documents\\briny-injection-AqExemptions\\Allprocessed\\injection_2015.csv\n"
     ]
    },
    {
     "name": "stderr",
     "output_type": "stream",
     "text": [
      "C:\\Users\\betebari\\AppData\\Local\\Temp\\ipykernel_808\\1633092741.py:18: DtypeWarning: Columns (6) have mixed types. Specify dtype option on import or set low_memory=False.\n",
      "  yearly_data = pd.read_csv(file)\n"
     ]
    },
    {
     "name": "stdout",
     "output_type": "stream",
     "text": [
      "Processing file: C:\\Users\\betebari\\Documents\\briny-injection-AqExemptions\\Allprocessed\\injection_2016.csv\n"
     ]
    },
    {
     "name": "stderr",
     "output_type": "stream",
     "text": [
      "C:\\Users\\betebari\\AppData\\Local\\Temp\\ipykernel_808\\1633092741.py:18: DtypeWarning: Columns (6) have mixed types. Specify dtype option on import or set low_memory=False.\n",
      "  yearly_data = pd.read_csv(file)\n"
     ]
    },
    {
     "name": "stdout",
     "output_type": "stream",
     "text": [
      "Processing file: C:\\Users\\betebari\\Documents\\briny-injection-AqExemptions\\Allprocessed\\injection_2017.csv\n"
     ]
    },
    {
     "name": "stderr",
     "output_type": "stream",
     "text": [
      "C:\\Users\\betebari\\AppData\\Local\\Temp\\ipykernel_808\\1633092741.py:18: DtypeWarning: Columns (6) have mixed types. Specify dtype option on import or set low_memory=False.\n",
      "  yearly_data = pd.read_csv(file)\n"
     ]
    },
    {
     "name": "stdout",
     "output_type": "stream",
     "text": [
      "Merged quarterly data saved to C:\\Users\\betebari\\Documents\\briny-injection-AqExemptions\\merged_quarterly_data.csv\n"
     ]
    }
   ],
   "source": [
    "import os\n",
    "import glob\n",
    "import pandas as pd\n",
    "import matplotlib.pyplot as plt\n",
    "from matplotlib.backends.backend_pdf import PdfPages\n",
    "\n",
    "# Define directories\n",
    "output_dir = r'C:\\Users\\betebari\\Documents\\briny-injection-AqExemptions\\Allprocessed'\n",
    "merged_output_path = r'C:\\Users\\betebari\\Documents\\briny-injection-AqExemptions\\merged_quarterly_data.csv'\n",
    "pdf_output_path = r'C:\\Users\\betebari\\Documents\\briny-injection-AqExemptions\\injection_quarterly_plots.pdf'\n",
    "\n",
    "# Initialize an empty DataFrame to store all years' data\n",
    "all_years_data = pd.DataFrame()\n",
    "\n",
    "# Merge all years' injection data\n",
    "for file in glob.glob(os.path.join(output_dir, 'injection_*.csv')):\n",
    "    print(f\"Processing file: {file}\")\n",
    "    yearly_data = pd.read_csv(file)\n",
    "    all_years_data = pd.concat([all_years_data, yearly_data], ignore_index=True)\n",
    "\n",
    "# Ensure date and numeric columns are properly formatted\n",
    "all_years_data['InjectionDate'] = pd.to_datetime(all_years_data['InjectionDate'], errors='coerce')\n",
    "all_years_data = all_years_data.dropna(subset=['InjectionDate'])  # Drop rows with invalid dates\n",
    "\n",
    "# Replace 'Steam/WaterInjected(BBL)' with the correct column name\n",
    "if 'Steam/WaterInjected(BBL)' not in all_years_data.columns:\n",
    "    raise ValueError(\"Column 'Steam/WaterInjected(BBL)' not found in the data. Please update column name.\")\n",
    "\n",
    "# Group by API number and resample quarterly\n",
    "all_years_data['quarter'] = all_years_data['InjectionDate'].dt.to_period('Q')\n",
    "quarterly_data = all_years_data.groupby(['API', 'quarter'])['Steam/WaterInjected(BBL)'].sum().reset_index()\n",
    "\n",
    "# Save the combined quarterly data to CSV\n",
    "quarterly_data.to_csv(merged_output_path, index=False)\n",
    "print(f\"Merged quarterly data saved to {merged_output_path}\")\n",
    "\n",
    "# Generate quarterly plots for each API\n",
    "unique_apis = quarterly_data['API'].unique()\n",
    "\n",
    "with PdfPages(pdf_output_path) as pdf:\n",
    "    for api in unique_apis:\n",
    "        api_data = quarterly_data[quarterly_data['API'] == api]\n",
    "        plt.figure(figsize=(10, 6))\n",
    "        plt.plot(api_data['quarter'].astype(str), api_data['Steam/WaterInjected(BBL)'], marker='o')\n",
    "        plt.title(f\"Quarterly Injection Volume for API {api}\")\n",
    "        plt.xlabel(\"Quarter\")\n",
    "        plt.ylabel(\"Volume (BBL)\")\n",
    "        plt.xticks(rotation=45)\n",
    "        plt.grid(True)\n",
    "        plt.tight_layout()\n",
    "        pdf.savefig()  # Save the current plot to the PDF\n",
    "        plt.close()  # Close the plot to free memory\n",
    "    print(f\"All API plots saved to {pdf_output_path}\")"
   ]
  },
  {
   "cell_type": "code",
   "execution_count": null,
   "id": "911b2b69-5941-40d4-aabc-ff90b0e83914",
   "metadata": {},
   "outputs": [],
   "source": []
  }
 ],
 "metadata": {
  "kernelspec": {
   "display_name": "Python 3 (ipykernel)",
   "language": "python",
   "name": "python3"
  },
  "language_info": {
   "codemirror_mode": {
    "name": "ipython",
    "version": 3
   },
   "file_extension": ".py",
   "mimetype": "text/x-python",
   "name": "python",
   "nbconvert_exporter": "python",
   "pygments_lexer": "ipython3",
   "version": "3.11.5"
  }
 },
 "nbformat": 4,
 "nbformat_minor": 5
}
