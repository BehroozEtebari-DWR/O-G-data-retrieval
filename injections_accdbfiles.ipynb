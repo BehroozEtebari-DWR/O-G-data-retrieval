{
 "cells": [
  {
   "cell_type": "code",
   "execution_count": 1,
   "id": "2eb96b56-d884-41e3-a09a-290896dd9bb9",
   "metadata": {},
   "outputs": [],
   "source": [
    "import pandas as pd\n",
    "from sqlalchemy import create_engine\n",
    "import pyodbc"
   ]
  },
  {
   "cell_type": "code",
   "execution_count": 2,
   "id": "27e8af89-98c9-46e9-95ff-8ed0e2eabcc2",
   "metadata": {},
   "outputs": [],
   "source": [
    "# Define the connection string\n",
    "access_file_path = \"C:/Users/betebari/Documents/briny-injection-AqExemptions/All annual data BAK/1987/1987_Production_Database.accdb\"\n",
    "conn_str = f\"access+pyodbc:///?odbc_connect=DRIVER={{Microsoft Access Driver (*.mdb, *.accdb)}};DBQ={access_file_path}\"\n",
    "\n",
    "# Create the SQLAlchemy engine\n",
    "engine = create_engine(conn_str)"
   ]
  },
  {
   "cell_type": "code",
   "execution_count": 3,
   "id": "4828b503-370a-4369-85dc-50e52f2605bb",
   "metadata": {},
   "outputs": [
    {
     "name": "stdout",
     "output_type": "stream",
     "text": [
      "1987CaliforniaOilandGasWellInjection\n",
      "1987CaliforniaOilandGasWellProduction\n",
      "1987CaliforniaOilandGasWells\n"
     ]
    }
   ],
   "source": [
    "conn = pyodbc.connect(f\"DRIVER={{Microsoft Access Driver (*.mdb, *.accdb)}};DBQ={access_file_path}\")\n",
    "cursor = conn.cursor()\n",
    "tables = cursor.tables(tableType='TABLE')\n",
    "for table in tables:\n",
    "    print(table.table_name)\n",
    "conn.close()"
   ]
  },
  {
   "cell_type": "code",
   "execution_count": 4,
   "id": "88e9d415-5241-4b26-ad68-165392e33e57",
   "metadata": {},
   "outputs": [
    {
     "name": "stdout",
     "output_type": "stream",
     "text": [
      "  InjectionDate InjectionStatus  Gas/AirInjected(MCF)  \\\n",
      "0    1987-01-01              06                   NaN   \n",
      "1    1987-01-01              06                   NaN   \n",
      "2    1987-01-01              06                   NaN   \n",
      "3    1987-01-01              06                   NaN   \n",
      "4    1987-01-01              06                   NaN   \n",
      "\n",
      "   Steam/WaterInjected(BBL)  DaysInjecting  SurfaceInjPressure WaterSource  \\\n",
      "0                       0.0            0.0                 NaN           0   \n",
      "1                       0.0            0.0                 NaN           0   \n",
      "2                       0.0            0.0                 NaN           0   \n",
      "3                       0.0            0.0                 NaN           0   \n",
      "4                       0.0            0.0                 NaN           0   \n",
      "\n",
      "  WaterKind MissingDataCode    PWT__ID  \n",
      "0         0               R  100000032  \n",
      "1         0               R  100000033  \n",
      "2         0               R  100000040  \n",
      "3         0               R  100000043  \n",
      "4         0               R  100000052  \n"
     ]
    }
   ],
   "source": [
    "# Query the table\n",
    "table_name = \"1987CaliforniaOilandGasWellInjection\"  # Replace with your desired table name\n",
    "query = f\"SELECT * FROM {table_name}\"\n",
    "data = pd.read_sql_query(query, engine)\n",
    "\n",
    "# Display the first few rows\n",
    "print(data.head())\n",
    "\n",
    "# Close the connection\n",
    "engine.dispose()"
   ]
  },
  {
   "cell_type": "code",
   "execution_count": 5,
   "id": "7f91d8fd-b5cc-4fce-8a34-191672928313",
   "metadata": {},
   "outputs": [
    {
     "name": "stdout",
     "output_type": "stream",
     "text": [
      "Updated CSV file saved as '2-1987CaliforniaOilandGasWellInjection.csv'\n"
     ]
    }
   ],
   "source": [
    "# Save the updated DataFrame to a new CSV file\n",
    "output_file = '2-1987CaliforniaOilandGasWellInjection.csv'\n",
    "data.to_csv(output_file, index=False)\n",
    "\n",
    "print(f\"Updated CSV file saved as '{output_file}'\")"
   ]
  },
  {
   "cell_type": "code",
   "execution_count": null,
   "id": "dc387a63-3d2d-43b5-b2b3-b6b01e994f38",
   "metadata": {},
   "outputs": [],
   "source": []
  }
 ],
 "metadata": {
  "kernelspec": {
   "display_name": "Python 3 (ipykernel)",
   "language": "python",
   "name": "python3"
  },
  "language_info": {
   "codemirror_mode": {
    "name": "ipython",
    "version": 3
   },
   "file_extension": ".py",
   "mimetype": "text/x-python",
   "name": "python",
   "nbconvert_exporter": "python",
   "pygments_lexer": "ipython3",
   "version": "3.11.5"
  }
 },
 "nbformat": 4,
 "nbformat_minor": 5
}
