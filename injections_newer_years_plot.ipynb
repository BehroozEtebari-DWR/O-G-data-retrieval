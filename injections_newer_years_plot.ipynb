{
 "cells": [
  {
   "cell_type": "code",
   "execution_count": 1,
   "id": "3ac3cad1",
   "metadata": {},
   "outputs": [],
   "source": [
    "import pandas as pd\n",
    "import numpy as np\n",
    "from matplotlib.backends.backend_pdf import PdfPages\n",
    "import matplotlib.pyplot as plt"
   ]
  },
  {
   "cell_type": "code",
   "execution_count": 11,
   "id": "95620ad5",
   "metadata": {},
   "outputs": [
    {
     "name": "stdout",
     "output_type": "stream",
     "text": [
      "File read successfully!\n",
      "  ReportType  APINumber  FieldCode  AreaCode  PoolCode WellTypeCode  \\\n",
      "0    OG110BQ  403041397        628         9         7           WF   \n",
      "1    OG110BQ  403041397        628         9        15           WD   \n",
      "2    OG110BQ  403022157        628         9         7           WF   \n",
      "3    OG110BQ  403043896        628         9         7           WF   \n",
      "4    OG110BQ  403043896        628         9         7           WF   \n",
      "\n",
      "  InjectionReportDate  SteamWaterInjected WaterSuitable WaterTreatedDeoiling  \\\n",
      "0      3/31/2020 0:00             5781776             N                    Y   \n",
      "1      9/30/2020 0:00             4566049             N                    Y   \n",
      "2      3/31/2020 0:00             4492401             N                    Y   \n",
      "3      3/31/2020 0:00             4437347             N                    Y   \n",
      "4      9/30/2020 0:00             4148798             N                    Y   \n",
      "\n",
      "   ... WaterTreatedDesalinization WaterTreatedMembrane WaterTreatedOther  \\\n",
      "0  ...                          N                    N                 N   \n",
      "1  ...                          N                    N                 N   \n",
      "2  ...                          N                    N                 N   \n",
      "3  ...                          N                    N                 N   \n",
      "4  ...                          N                    N                 N   \n",
      "\n",
      "  WaterSourceName WaterSourceType   Latitude   Longitude  RASTER_ft  \\\n",
      "0             NaN               1  35.494102 -118.901779   1078.009   \n",
      "1             NaN               1  35.494102 -118.901779   1078.009   \n",
      "2             NaN               1  35.492744 -118.900856   1247.119   \n",
      "3             NaN               1  35.495697 -118.903992   1044.593   \n",
      "4             NaN               1  35.495697 -118.903992   1044.593   \n",
      "\n",
      "         X_utm        Y_utm  \n",
      "0  871811.5643  3935567.828  \n",
      "1  871811.5643  3935567.828  \n",
      "2  871901.6363  3935420.576  \n",
      "3  871603.3609  3935736.466  \n",
      "4  871603.3609  3935736.466  \n",
      "\n",
      "[5 rows x 21 columns]\n"
     ]
    }
   ],
   "source": [
    "file_path = r\"C:/Users/betebari/Documents/briny-injection-AqExemptions/All annual data xls/2020/2020_Quarterly_Injection.csv\"\n",
    "\n",
    "try:\n",
    "    df = pd.read_csv(file_path, encoding='latin1')  # Try 'latin1' or 'ISO-8859-1'\n",
    "    print(\"File read successfully!\")\n",
    "    print(df.head())\n",
    "except UnicodeDecodeError:\n",
    "    print(\"Failed to decode the file. Try a different encoding.\")"
   ]
  },
  {
   "cell_type": "code",
   "execution_count": 13,
   "id": "4fec0860-6cb1-4a5c-afa5-c6c2b2b9247f",
   "metadata": {},
   "outputs": [
    {
     "name": "stdout",
     "output_type": "stream",
     "text": [
      "   APINumber InjectionReportDate  SteamWaterInjected\n",
      "0  400720102          2020-03-31                  14\n",
      "1  400720102          2020-06-30                  77\n",
      "2  400720102          2020-09-30                  15\n",
      "3  401900670          2020-03-31               64443\n",
      "4  401900670          2020-06-30               32034\n"
     ]
    }
   ],
   "source": [
    "# Convert InjectionReportDate to datetime\n",
    "df['InjectionReportDate'] = pd.to_datetime(df['InjectionReportDate'])\n",
    "\n",
    "# Group data by APINumber and summarize injected volumes\n",
    "grouped = df.groupby(['APINumber', 'InjectionReportDate'])['SteamWaterInjected'].sum().reset_index()\n",
    "\n",
    "# Display the summarized data\n",
    "print(grouped.head())"
   ]
  },
  {
   "cell_type": "code",
   "execution_count": 15,
   "id": "86f192df-5801-4535-b92e-6337f3924559",
   "metadata": {},
   "outputs": [
    {
     "name": "stdout",
     "output_type": "stream",
     "text": [
      "Report saved to Injection_Report_by_Well.csv\n"
     ]
    }
   ],
   "source": [
    "# Save the grouped data to a CSV\n",
    "output_path = \"Injection_Report_by_Well_2020.csv\"\n",
    "grouped.to_csv(output_path, index=False)\n",
    "print(f\"Report saved to {output_path}\")"
   ]
  },
  {
   "cell_type": "code",
   "execution_count": 17,
   "id": "f537170b-41a0-4f64-ba9d-e2d446c354f6",
   "metadata": {},
   "outputs": [
    {
     "name": "stdout",
     "output_type": "stream",
     "text": [
      "Plots have been exported to Injection_Report_Plots.pdf\n"
     ]
    }
   ],
   "source": [
    "# File path to save the PDF\n",
    "pdf_output_path = \"Injection_Report_Plots.pdf\"\n",
    "\n",
    "# Create a PDF document\n",
    "with PdfPages(pdf_output_path) as pdf:\n",
    "    unique_wells = grouped['APINumber'].unique()\n",
    "\n",
    "    for well in unique_wells:\n",
    "        # Filter data for the well\n",
    "        well_data = grouped[grouped['APINumber'] == well]\n",
    "\n",
    "        # Create a plot\n",
    "        plt.figure(figsize=(10, 6))\n",
    "        plt.plot(well_data['InjectionReportDate'], well_data['SteamWaterInjected'], marker='o')\n",
    "        \n",
    "        # Customize the plot\n",
    "        plt.title(f\"Injections for Well {well}\")\n",
    "        plt.xlabel(\"Injection Report Date\")\n",
    "        plt.ylabel(\"Steam Water Injected (Volumes)\")\n",
    "        plt.grid(True)\n",
    "        \n",
    "        # Save the current figure to the PDF\n",
    "        pdf.savefig()  # Saves the current figure\n",
    "        plt.close()  # Closes the figure to free memory\n",
    "\n",
    "print(f\"Plots have been exported to {pdf_output_path}\")"
   ]
  },
  {
   "cell_type": "code",
   "execution_count": null,
   "id": "78c32eac-8ea9-48c6-a7e1-d0053b537149",
   "metadata": {},
   "outputs": [],
   "source": []
  }
 ],
 "metadata": {
  "kernelspec": {
   "display_name": "Python 3 (ipykernel)",
   "language": "python",
   "name": "python3"
  },
  "language_info": {
   "codemirror_mode": {
    "name": "ipython",
    "version": 3
   },
   "file_extension": ".py",
   "mimetype": "text/x-python",
   "name": "python",
   "nbconvert_exporter": "python",
   "pygments_lexer": "ipython3",
   "version": "3.11.5"
  }
 },
 "nbformat": 4,
 "nbformat_minor": 5
}
